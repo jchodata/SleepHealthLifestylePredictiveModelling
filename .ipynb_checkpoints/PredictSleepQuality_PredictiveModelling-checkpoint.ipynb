{
 "cells": [
  {
   "cell_type": "code",
   "execution_count": 1,
   "id": "initial_id",
   "metadata": {
    "ExecuteTime": {
     "end_time": "2024-11-29T23:16:37.473264100Z",
     "start_time": "2024-11-29T23:16:37.466728100Z"
    }
   },
   "outputs": [],
   "source": [
    "import pandas as pd \n",
    "import numpy as np\n",
    "from sklearn.model_selection import train_test_split\n",
    "from sklearn.ensemble import GradientBoostingRegressor\n",
    "from sklearn.metrics import mean_absolute_error, mean_squared_error, r2_score\n",
    "import matplotlib.pyplot as plt"
   ]
  },
  {
   "cell_type": "code",
   "execution_count": 2,
   "id": "6420e3d1debb58ee",
   "metadata": {
    "ExecuteTime": {
     "end_time": "2024-11-29T23:16:37.719449800Z",
     "start_time": "2024-11-29T23:16:37.712111Z"
    },
    "collapsed": false,
    "jupyter": {
     "outputs_hidden": false
    }
   },
   "outputs": [],
   "source": [
    "# Load the dataset\n",
    "df = pd.read_csv(r\"C:\\Users\\chojk\\Desktop\\myproject\\SleepHealtLifestyleDatasetPredictiveModelling\\Sleep_health_and_lifestyle_dataset.csv\")"
   ]
  },
  {
   "cell_type": "code",
   "execution_count": 3,
   "id": "7ce3bfcd927aa625",
   "metadata": {
    "ExecuteTime": {
     "end_time": "2024-11-29T23:16:37.975884800Z",
     "start_time": "2024-11-29T23:16:37.971263500Z"
    },
    "collapsed": false,
    "jupyter": {
     "outputs_hidden": false
    }
   },
   "outputs": [],
   "source": [
    "# Imputes the mean of a specified column onto null values within the column\n",
    "def imputeNullValues(colName, df):\n",
    "    print(\"Imputing \" + colName + \".\")\n",
    "    # Create two new column names based on original column name.\n",
    "    indicatorColName = 'm_'   + colName # Tracks whether imputed.\n",
    "    imputedColName   = 'imp_' + colName # Stores original & imputed data.\n",
    "\n",
    "    # Get mean or median depending on preference.\n",
    "    imputedValue = df[colName].mean()\n",
    "\n",
    "    # Populate new columns with data.\n",
    "    imputedColumn  = []\n",
    "    indictorColumn = []\n",
    "    for i in range(len(df)):\n",
    "        isImputed = False\n",
    "\n",
    "        # mi_OriginalName column stores imputed & original data.\n",
    "        if np.isnan(df.loc[i][colName]):\n",
    "            isImputed = True\n",
    "            imputedColumn.append(imputedValue)\n",
    "        else:\n",
    "            imputedColumn.append(df.loc[i][colName])\n",
    "\n",
    "        # mi_OriginalName column tracks if is imputed (1) or not (0).\n",
    "        if isImputed:\n",
    "            indictorColumn.append(1)\n",
    "        else:\n",
    "            indictorColumn.append(0)\n",
    "\n",
    "    # Append new columns to dataframe but always keep original column.\n",
    "    df[indicatorColName] = indictorColumn\n",
    "    df[imputedColName]   = imputedColumn\n",
    "    del df[colName]     # Drop column with null values.\n",
    "    return df\n",
    "\n",
    "def prepDataFeatures(df):\n",
    "    print(\"Prepping features.\")\n",
    "    # Copy the DataFrame and drop the target variable\n",
    "    X = df.copy()\n",
    "    X = X.drop('Person ID', axis=1)\n",
    "    \n",
    "    # Devide 'Blood Pressure' column into HighBP and LowBP\n",
    "    X[['HighBP', 'LowBP']] = X['Blood Pressure'].str.split('/', expand=True)\n",
    "    X = X.drop(columns=['Blood Pressure'])\n",
    "    \n",
    "    # Convert \"Normal Weight\" to \"Normal\" in the 'BMI Category' column\n",
    "    X['BMI Category'] = X['BMI Category'].replace('Normal Weight', 'Normal')\n",
    "    \n",
    "    # Convert both 'HighBP' and 'LowBP' to integers\n",
    "    X['HighBP'] = pd.to_numeric(X['HighBP'], errors='coerce', downcast='integer')\n",
    "    X['LowBP'] = pd.to_numeric(X['LowBP'], errors='coerce', downcast='integer')\n",
    "    \n",
    "    # Make dummy variables\n",
    "    X = pd.get_dummies(X, columns=['Gender', 'Occupation', 'BMI Category', 'Sleep Disorder'], dtype=int)\n",
    "    \n",
    "    # Set Model variables\n",
    "    X = X[['Sleep Duration', 'Stress Level', 'Age',\n",
    "        'Occupation_Engineer', 'BMI Category_Normal', 'Gender_Female',\n",
    "        'Physical Activity Level', 'Occupation_Scientist', 'Occupation_Sales Representative',\n",
    "        'Occupation_Doctor', 'BMI Category_Overweight', 'Gender_Male', 'Sleep Disorder_Insomnia',\n",
    "        'Occupation_Salesperson']]\n",
    "    \n",
    "    \n",
    "    y = df['Quality of Sleep']\n",
    "    \n",
    "    return X, y"
   ]
  },
  {
   "cell_type": "code",
   "execution_count": 4,
   "id": "6b3d0744b9670f47",
   "metadata": {
    "ExecuteTime": {
     "end_time": "2024-11-29T23:16:38.381222400Z",
     "start_time": "2024-11-29T23:16:38.378788800Z"
    },
    "collapsed": false,
    "jupyter": {
     "outputs_hidden": false
    }
   },
   "outputs": [],
   "source": [
    "def performModelTraining(X, y):\n",
    "    # Split the data into training and testing sets\n",
    "    X_train, X_test, y_train, y_test = train_test_split(X, y, test_size=0.2, random_state=42)\n",
    "    \n",
    "    # Create and train the model\n",
    "    model = GradientBoostingRegressor(random_state=42)\n",
    "    model.fit(X_train, y_train)\n",
    "    \n",
    "    # Predict on the test set\n",
    "    y_pred = model.predict(X_test)\n",
    "\n",
    "    # Calculate evaluation metrics\n",
    "    mae = mean_absolute_error(y_test, y_pred)\n",
    "    mse = mean_squared_error(y_test, y_pred)\n",
    "    r2 = r2_score(y_test, y_pred)\n",
    "    \n",
    "    # Display evaluation summary\n",
    "    print(\"\\n**** Evaluation Summary ****\")\n",
    "    print(f\"Mean Absolute Error (MAE): {mae:.4f}\")\n",
    "    print(f\"Mean Squared Error (MSE): {mse:.4f}\")\n",
    "    print(f\"R² Score: {r2:.4f}\")\n",
    "    \n",
    "    return y_test, y_pred"
   ]
  },
  {
   "cell_type": "code",
   "execution_count": 5,
   "id": "3ffc944428f1a240",
   "metadata": {
    "ExecuteTime": {
     "end_time": "2024-11-29T23:16:39.507873800Z",
     "start_time": "2024-11-29T23:16:39.505795900Z"
    },
    "collapsed": false,
    "jupyter": {
     "outputs_hidden": false
    }
   },
   "outputs": [],
   "source": [
    "def plotActualVsPredicted(y_test, y_pred):\n",
    "    # Create scatter plot\n",
    "    plt.figure(figsize=(8, 6))\n",
    "    plt.scatter(y_test, y_pred, alpha=0.7, label=\"Predicted vs Actual\")\n",
    "    plt.plot([y_test.min(), y_test.max()], [y_test.min(), y_test.max()], 'r--', lw=2, label=\"Perfect Prediction\")\n",
    "    \n",
    "    # Set plot labels and title\n",
    "    plt.xlabel(\"Actual Quality of Sleep\")\n",
    "    plt.ylabel(\"Predicted Quality of Sleep\")\n",
    "    plt.title(\"Actual vs. Predicted Quality of Sleep\")\n",
    "    plt.legend()\n",
    "    plt.show()"
   ]
  },
  {
   "cell_type": "code",
   "execution_count": 6,
   "id": "f5bfb7b4109b59a6",
   "metadata": {
    "ExecuteTime": {
     "end_time": "2024-11-29T23:16:40.073686200Z",
     "start_time": "2024-11-29T23:16:40.064694900Z"
    },
    "collapsed": false,
    "jupyter": {
     "outputs_hidden": false
    }
   },
   "outputs": [
    {
     "name": "stdout",
     "output_type": "stream",
     "text": [
      "Prepping features.\n"
     ]
    }
   ],
   "source": [
    "# Prepare features and target variable\n",
    "X, y = prepDataFeatures(df)"
   ]
  },
  {
   "cell_type": "code",
   "execution_count": 7,
   "id": "d12f269bd6a882cc",
   "metadata": {
    "ExecuteTime": {
     "end_time": "2024-11-29T23:16:42.216143400Z",
     "start_time": "2024-11-29T23:16:42.166778400Z"
    },
    "collapsed": false,
    "jupyter": {
     "outputs_hidden": false
    }
   },
   "outputs": [
    {
     "name": "stdout",
     "output_type": "stream",
     "text": [
      "\n",
      "**** Evaluation Summary ****\n",
      "Mean Absolute Error (MAE): 0.0297\n",
      "Mean Squared Error (MSE): 0.0113\n",
      "R² Score: 0.9908\n"
     ]
    }
   ],
   "source": [
    "# Train the model and evaluate\n",
    "y_test, y_pred = performModelTraining(X, y)"
   ]
  },
  {
   "cell_type": "code",
   "execution_count": 8,
   "id": "9bd8d26c265b81c9",
   "metadata": {
    "ExecuteTime": {
     "end_time": "2024-11-29T23:16:44.205522100Z",
     "start_time": "2024-11-29T23:16:43.999485800Z"
    },
    "collapsed": false,
    "jupyter": {
     "outputs_hidden": false
    }
   },
   "outputs": [
    {
     "data": {
      "image/png": "[encoded data removed]",
      "text/plain": [
       "<Figure size 800x600 with 1 Axes>"
      ]
     },
     "metadata": {},
     "output_type": "display_data"
    }
   ],
   "source": [
    "# Visualize the results\n",
    "plotActualVsPredicted(y_test, y_pred)"
   ]
  },
  {
   "cell_type": "code",
   "execution_count": null,
   "id": "361d96a812e19c47",
   "metadata": {
    "collapsed": false,
    "jupyter": {
     "outputs_hidden": false
    }
   },
   "outputs": [],
   "source": []
  }
 ],
 "metadata": {
  "kernelspec": {
   "display_name": "Python 3 (ipykernel)",
   "language": "python",
   "name": "python3"
  },
  "language_info": {
   "codemirror_mode": {
    "name": "ipython",
    "version": 3
   },
   "file_extension": ".py",
   "mimetype": "text/x-python",
   "name": "python",
   "nbconvert_exporter": "python",
   "pygments_lexer": "ipython3",
   "version": "3.12.7"
  }
 },
 "nbformat": 4,
 "nbformat_minor": 5
}
